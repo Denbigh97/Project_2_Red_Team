{
 "cells": [
  {
   "cell_type": "code",
   "execution_count": 10,
   "metadata": {},
   "outputs": [],
   "source": [
    "import pandas as pd\n",
    "import plotly.graph_objects as go\n",
    "import datetime\n",
    "import numpy as np\n",
    "# from ipywidgets import widgets\n",
    "import ipywidgets as wg\n",
    "from ipywidgets import interact, interact_manual\n",
    "import plotly.express as px\n",
    "import json\n",
    "import csv\n",
    "\n",
    "# PATH_TO_DATA = \"Cleaned_data1121.csv\"\n",
    "# df = pd.read_json(PATH_TO_DATA)\n",
    "with open('Cleaned_data1121.csv', 'r') as f:\n",
    "    reader = csv.reader(f, delimiter=';')\n",
    "    data_list = list()\n",
    "    for row in reader:\n",
    "        data_list.append(row)\n",
    "data = [dict(zip(data_list[0],row)) for row in data_list]\n",
    "# data.pop(0)\n",
    "# s = json.dumps(data)\n",
    "\n",
    "with open('data.txt', 'w') as outfile:\n",
    "    json.dump(data, outfile)\n",
    "\n",
    "\n"
   ]
  },
  {
   "cell_type": "code",
   "execution_count": null,
   "metadata": {},
   "outputs": [],
   "source": [
    "df.sample(3)"
   ]
  },
  {
   "cell_type": "code",
   "execution_count": null,
   "metadata": {},
   "outputs": [],
   "source": []
  },
  {
   "cell_type": "code",
   "execution_count": null,
   "metadata": {},
   "outputs": [],
   "source": [
    "df['TEAM_ABBREVIATION'].unique()"
   ]
  },
  {
   "cell_type": "code",
   "execution_count": null,
   "metadata": {},
   "outputs": [],
   "source": [
    "df['SEASON_ID'].unique()"
   ]
  },
  {
   "cell_type": "code",
   "execution_count": null,
   "metadata": {},
   "outputs": [],
   "source": [
    "df['WL'].unique()"
   ]
  },
  {
   "cell_type": "code",
   "execution_count": null,
   "metadata": {},
   "outputs": [],
   "source": [
    "df['PTS'].mean()\n",
    "AVGPTS = df['PTS'].mean()"
   ]
  },
  {
   "cell_type": "code",
   "execution_count": null,
   "metadata": {},
   "outputs": [],
   "source": [
    "df['Is_Win'].unique()"
   ]
  },
  {
   "cell_type": "code",
   "execution_count": null,
   "metadata": {},
   "outputs": [],
   "source": [
    "df['Is_Loss'].unique()"
   ]
  },
  {
   "cell_type": "code",
   "execution_count": null,
   "metadata": {},
   "outputs": [],
   "source": [
    "df['Home_Away'].unique().tolist()"
   ]
  },
  {
   "cell_type": "code",
   "execution_count": null,
   "metadata": {},
   "outputs": [],
   "source": [
    "club = df['TEAM_ABBREVIATION'].unique()\n",
    "place = df['Home_Away'].unique().tolist()"
   ]
  },
  {
   "cell_type": "code",
   "execution_count": null,
   "metadata": {},
   "outputs": [],
   "source": []
  },
  {
   "cell_type": "code",
   "execution_count": 11,
   "metadata": {},
   "outputs": [
    {
     "ename": "NameError",
     "evalue": "name 'df' is not defined",
     "output_type": "error",
     "traceback": [
      "\u001b[0;31m---------------------------------------------------------------------------\u001b[0m",
      "\u001b[0;31mNameError\u001b[0m                                 Traceback (most recent call last)",
      "\u001b[0;32m<ipython-input-11-3a540e652c8c>\u001b[0m in \u001b[0;36m<module>\u001b[0;34m\u001b[0m\n\u001b[0;32m----> 1\u001b[0;31m \u001b[0mfig\u001b[0m \u001b[0;34m=\u001b[0m \u001b[0mpx\u001b[0m\u001b[0;34m.\u001b[0m\u001b[0mbar\u001b[0m\u001b[0;34m(\u001b[0m\u001b[0mdf\u001b[0m\u001b[0;34m,\u001b[0m \u001b[0mx\u001b[0m\u001b[0;34m=\u001b[0m\u001b[0;34m'TEAM_ABBREVIATION'\u001b[0m\u001b[0;34m,\u001b[0m \u001b[0my\u001b[0m\u001b[0;34m=\u001b[0m\u001b[0;34m'PTS'\u001b[0m\u001b[0;34m)\u001b[0m\u001b[0;34m\u001b[0m\u001b[0;34m\u001b[0m\u001b[0m\n\u001b[0m\u001b[1;32m      2\u001b[0m \u001b[0mfig\u001b[0m\u001b[0;34m.\u001b[0m\u001b[0mshow\u001b[0m\u001b[0;34m(\u001b[0m\u001b[0;34m)\u001b[0m\u001b[0;34m\u001b[0m\u001b[0;34m\u001b[0m\u001b[0m\n\u001b[1;32m      3\u001b[0m \u001b[0;31m# season = wg.FloatText('SEASON_ID')\u001b[0m\u001b[0;34m\u001b[0m\u001b[0;34m\u001b[0m\u001b[0;34m\u001b[0m\u001b[0m\n\u001b[1;32m      4\u001b[0m \u001b[0;31m# opponent = wg.FloatSlider('Opponent')\u001b[0m\u001b[0;34m\u001b[0m\u001b[0;34m\u001b[0m\u001b[0;34m\u001b[0m\u001b[0m\n\u001b[1;32m      5\u001b[0m \u001b[0;31m# display(a,b)\u001b[0m\u001b[0;34m\u001b[0m\u001b[0;34m\u001b[0m\u001b[0;34m\u001b[0m\u001b[0m\n",
      "\u001b[0;31mNameError\u001b[0m: name 'df' is not defined"
     ]
    }
   ],
   "source": [
    "\n",
    "fig = p.bar(df, x='TEAM_ABBREVIATION', y='PTS')\n",
    "fig.show()\n",
    "# season = wg.FloatText('SEASON_ID')\n",
    "# opponent = wg.FloatSlider('Opponent')\n",
    "# display(a,b)\n",
    "# mylink = wg.jslink((a,),(b,))"
   ]
  },
  {
   "cell_type": "code",
   "execution_count": null,
   "metadata": {},
   "outputs": [],
   "source": [
    "# nba = widgets.Dropdown(\n",
    "#     options=list(df['TEAM_ABBREVIATION'].unique()),\n",
    "#     value='club',\n",
    "#     description='TEAM:',\n",
    "# )\n",
    "\n",
    "# origin1 = widgets.Dropdown(\n",
    "#     options=list(df['Is_Win'].unique()),\n",
    "#     value='LGA',\n",
    "#     description='WIN:',\n",
    "# )\n",
    "\n",
    "# origin2 = widgets.Dropdown(\n",
    "#     options=list(df['Is_Loss'].unique()),\n",
    "#     value='LGA',\n",
    "#     description='LOSS:',\n",
    "# )\n",
    "\n",
    "# origin3 = widgets.Dropdown(\n",
    "#     options=list(df['SEASON_ID'].unique()),\n",
    "#     value='LGA',\n",
    "# #     description='SEASON:',\n",
    "# # )\n",
    "\n",
    "# textbox = widgets.Dropdown(\n",
    "#     description='Where: ',\n",
    "#     value='place',\n",
    "#     options=df['Home_Away'].unique().tolist()\n",
    "# )\n",
    "\n",
    "\n"
   ]
  },
  {
   "cell_type": "code",
   "execution_count": null,
   "metadata": {},
   "outputs": [],
   "source": [
    "# season = widgets.IntSlider(\n",
    "#     value=1.0,\n",
    "#     min=2009,\n",
    "#     max=2019,\n",
    "#     step=1.0,\n",
    "#     description='SEASON_ID:',\n",
    "#     continuous_update=False\n",
    "# )"
   ]
  },
  {
   "cell_type": "code",
   "execution_count": null,
   "metadata": {},
   "outputs": [],
   "source": [
    "# year = widgets.IntSlider(\n",
    "#     value=1.0,\n",
    "#     min=2009,\n",
    "#     max=2019,\n",
    "#     step=1.0,\n",
    "#     description='SEASON_ID:',\n",
    "#     continuous_update=False\n",
    "# )\n",
    "# Assign an empty figure widget with two traces\n",
    "trace1 = go.Histogram(x=df['Is_Win'], opacity=0.75, name='WIN')\n",
    "trace2 = go.Histogram(x=df['Is_Loss'], opacity=0.75, name='LOSS')\n",
    "g = go.FigureWidget(data=[trace1, trace2],\n",
    "                    layout=go.Layout(\n",
    "                        title=dict(\n",
    "                            text='win/loss'\n",
    "                        ),\n",
    "                        barmode='overlay'\n",
    "                    ))\n"
   ]
  },
  {
   "cell_type": "code",
   "execution_count": null,
   "metadata": {},
   "outputs": [],
   "source": [
    "# def validate():\n",
    "#     if SEASON_ID.value in df['SEASON_ID'].unique() and textbox.value in df['carrier'].unique():\n",
    "#         return True\n",
    "# #     else:\n",
    "# #         return False\n",
    "\n",
    "# def response(change):\n",
    "#     if validate():\n",
    "#         if use_date.value:\n",
    "#             filter_list = [i for i in \n",
    "#                            zip(df['SEASON_ID == year.value']\n",
    "# #             temp_df = df[filter_list]                          \n",
    "# #         else: \n",
    "# #             filter_list = [i for i in  \n",
    "# #                            zip(df['SEASON_ID == year.value']\n",
    "# #             temp_df = df[filter_list]\n",
    "                               \n",
    "        x1 = df['SEASON_ID']\n",
    "        x2 = df['Is_Win']\n",
    "        with g.batch_update():\n",
    "            g.data[1].x = x1\n",
    "            g.data[5].x = x2\n",
    "            g.layout.barmode = 'overlay'\n",
    "            g.layout.xaxis.title = 'Years'\n",
    "            g.layout.yaxis.title = 'Wins' \n",
    "                               \n",
    "                                           "
   ]
  },
  {
   "cell_type": "code",
   "execution_count": null,
   "metadata": {},
   "outputs": [],
   "source": [
    "# # container2 = widgets.HBox([origin, textbox])\n",
    "# widgets.VBox([container,\n",
    "#               container2,\n",
    "#               g])"
   ]
  },
  {
   "cell_type": "code",
   "execution_count": null,
   "metadata": {},
   "outputs": [],
   "source": []
  },
  {
   "cell_type": "code",
   "execution_count": null,
   "metadata": {},
   "outputs": [],
   "source": []
  },
  {
   "cell_type": "code",
   "execution_count": null,
   "metadata": {},
   "outputs": [],
   "source": []
  },
  {
   "cell_type": "code",
   "execution_count": null,
   "metadata": {},
   "outputs": [],
   "source": [
    "a = wg.FloatText()\n",
    "b = wg.FloatSlider()\n",
    "display(a,b)\n",
    "mylink = wg.jslink((a,'value'),(b,'value'))"
   ]
  },
  {
   "cell_type": "code",
   "execution_count": null,
   "metadata": {},
   "outputs": [],
   "source": []
  }
 ],
 "metadata": {
  "environment": {
   "name": "common-cpu.m54",
   "type": "gcloud",
   "uri": "gcr.io/deeplearning-platform-release/base-cpu:m54"
  },
  "kernelspec": {
   "display_name": "Python 3",
   "language": "python",
   "name": "python3"
  },
  "language_info": {
   "codemirror_mode": {
    "name": "ipython",
    "version": 3
   },
   "file_extension": ".py",
   "mimetype": "text/x-python",
   "name": "python",
   "nbconvert_exporter": "python",
   "pygments_lexer": "ipython3",
   "version": "3.7.8"
  }
 },
 "nbformat": 4,
 "nbformat_minor": 4
}
